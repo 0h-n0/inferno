{
  "cells": [
    {
      "cell_type": "code",
      "execution_count": null,
      "metadata": {
        "collapsed": false
      },
      "outputs": [],
      "source": [
        "%matplotlib inline"
      ]
    },
    {
      "cell_type": "markdown",
      "metadata": {},
      "source": [
        "\nTrainer Example\n================================\n\nThis example should illustrate how to use the trainer class.\n\n\n"
      ]
    },
    {
      "cell_type": "code",
      "execution_count": null,
      "metadata": {
        "collapsed": false
      },
      "outputs": [],
      "source": [
        "import torch.nn as nn\nfrom inferno.io.box.cifar import get_cifar10_loaders\nfrom inferno.trainers.basic import Trainer\nfrom inferno.trainers.callbacks.logging.tensorboard import TensorboardLogger\nfrom inferno.extensions.layers import ConvELU2D\nfrom inferno.extensions.layers import Flatten\nfrom inferno.utils.python_utils import ensure_dir\n\nfrom inferno.extensions.layers import SELU\n\n# change directories to your needs\nLOG_DIRECTORY = ensure_dir('log')\nSAVE_DIRECTORY = ensure_dir('save')\nDATASET_DIRECTORY = ensure_dir('dataset')\n\n\nDOWNLOAD_CIFAR = True\nUSE_CUDA = True\n\n# Build torch model\nmodel = nn.Sequential(\n    ConvELU2D(in_channels=3, out_channels=256, kernel_size=3),\n    nn.MaxPool2d(kernel_size=2, stride=2),\n    ConvELU2D(in_channels=256, out_channels=256, kernel_size=3),\n    nn.MaxPool2d(kernel_size=2, stride=2),\n    ConvELU2D(in_channels=256, out_channels=256, kernel_size=3),\n    nn.MaxPool2d(kernel_size=2, stride=2),\n    Flatten(),\n    nn.Linear(in_features=(256 * 4 * 4), out_features=10),\n    nn.Softmax()\n)\n\n# Load loaders\ntrain_loader, validate_loader = get_cifar10_loaders(DATASET_DIRECTORY,\n                                        download=DOWNLOAD_CIFAR)\n\n# Build trainer\ntrainer = Trainer(model)\ntrainer.build_criterion('CrossEntropyLoss')\ntrainer.build_metric('CategoricalError')\ntrainer.build_optimizer('Adam')\ntrainer.validate_every((2, 'epochs'))\ntrainer.save_every((5, 'epochs'))\ntrainer.save_to_directory(SAVE_DIRECTORY)\ntrainer.set_max_num_epochs(10)\ntrainer.build_logger(TensorboardLogger(log_scalars_every=(1, 'iteration'),\n                                log_images_every='never'), \n              log_directory=LOG_DIRECTORY)\n\n# Bind loaders\ntrainer.bind_loader('train', train_loader)\ntrainer.bind_loader('validate', validate_loader)\n\nif USE_CUDA:\n    trainer.cuda()\n\n# Go!\n#trainer.fit()"
      ]
    }
  ],
  "metadata": {
    "kernelspec": {
      "display_name": "Python 3",
      "language": "python",
      "name": "python3"
    },
    "language_info": {
      "codemirror_mode": {
        "name": "ipython",
        "version": 3
      },
      "file_extension": ".py",
      "mimetype": "text/x-python",
      "name": "python",
      "nbconvert_exporter": "python",
      "pygments_lexer": "ipython3",
      "version": "3.6.5"
    }
  },
  "nbformat": 4,
  "nbformat_minor": 0
}