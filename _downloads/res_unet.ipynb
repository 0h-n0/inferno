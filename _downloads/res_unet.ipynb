{
  "cells": [
    {
      "cell_type": "code",
      "execution_count": null,
      "metadata": {
        "collapsed": false
      },
      "outputs": [],
      "source": [
        "%matplotlib inline"
      ]
    },
    {
      "cell_type": "markdown",
      "metadata": {},
      "source": [
        "\n2D Residual Unet Example\n================================\n\nThis example should illustrate how to a Residual Unet \nas a layer\n\n\n"
      ]
    },
    {
      "cell_type": "code",
      "execution_count": null,
      "metadata": {
        "collapsed": false
      },
      "outputs": [],
      "source": [
        "import torch\nimport inferno.extensions.layers.unet as unet\n\nfrom inferno.extensions.layers import ConvELU2D, ConvSigmoid2D\n\n\n\n\n# a 2D data with 10 input channels\nx = torch.rand(1, 10, 64,64)\nx = torch.autograd.Variable(x)\n\n# a unet with resiudal blocks\nmodel = unet.ResBlockUNet(in_channels=10, out_channels=20, dim=2)\n\n# pass x trough unet \nout = model(x)\n\nprint(out.size())\n\n\n\n\"\"\"\nChained 3D Residual Unets\n================================\n\nThis example should illustrate how chain\nmultiple residual unets\n\"\"\"\n\n\n\n# 3D data with 5 input channels\nx = torch.rand(1, 5, 32,32, 32)\nx = torch.autograd.Variable(x)\n\n# a unet with resiudal blocks\nmodel_a = unet.ResBlockUNet(in_channels=5, out_channels=12, dim=3, \n                            unet_kwargs=dict(depth=3))\n\n# if the last layer in the second unet\n# shall be non-activated  we set \n# activated to False, this will only affect the\n# very last convolution of the net\nmodel_b = unet.ResBlockUNet(in_channels=12, out_channels=2,  dim=3,\n                            activated=False,\n                            unet_kwargs=dict(depth=3))\n\n# chain models\nmodel = torch.nn.Sequential(model_a, model_b)\n\n# and use the model\nout = model(x)\nprint(out.size())\n\n\n\n\n\"\"\"\nA Custom UNet\n================================\n\nThis example should illustrate how create\na custom UNet by deriving from UNetBase\n\"\"\"\n\nclass MySimple2DUnet(unet.UNetBase):\n    def __init__(self, **kwargs):\n        super(MySimple2DUnet, self).__init__(dim=2, **kwargs)\n\n\n    def conv_op_factory(self, in_channels, out_channels, part, index):\n\n        # are we in the very last block?\n        if  part=='up' and index + 1 == self.depth:\n            return torch.nn.Sequential(\n                ConvELU2D(in_channels=in_channels,  out_channels=out_channels, kernel_size=3),\n                ConvELU2D(in_channels=out_channels, out_channels=out_channels, kernel_size=3),\n                ConvSigmoid2D(in_channels=out_channels, out_channels=out_channels, kernel_size=3)\n            )\n        else:\n            return torch.nn.Sequential(\n                ConvELU2D(in_channels=in_channels,  out_channels=out_channels, kernel_size=3),\n                ConvELU2D(in_channels=out_channels, out_channels=out_channels, kernel_size=3),\n                ConvELU2D(in_channels=out_channels, out_channels=out_channels, kernel_size=3)\n            )\n\n\n\n\n\n# 2D data with 5 input channels\nx = torch.rand(1, 5, 32, 32)\nx = torch.autograd.Variable(x)\nmy_custom_unet = MySimple2DUnet(in_channels=5, out_channels=12, depth=3)\n\n\n# and use the model\nout = my_custom_unet(x)\nprint(out.size())"
      ]
    }
  ],
  "metadata": {
    "kernelspec": {
      "display_name": "Python 3",
      "language": "python",
      "name": "python3"
    },
    "language_info": {
      "codemirror_mode": {
        "name": "ipython",
        "version": 3
      },
      "file_extension": ".py",
      "mimetype": "text/x-python",
      "name": "python",
      "nbconvert_exporter": "python",
      "pygments_lexer": "ipython3",
      "version": "3.6.5"
    }
  },
  "nbformat": 4,
  "nbformat_minor": 0
}